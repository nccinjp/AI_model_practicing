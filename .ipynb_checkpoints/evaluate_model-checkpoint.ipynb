{
 "cells": [
  {
   "cell_type": "markdown",
   "id": "ae0f4e1a",
   "metadata": {},
   "source": [
    "# Stock trend classification : evalute model"
   ]
  },
  {
   "cell_type": "markdown",
   "id": "b52865d5",
   "metadata": {},
   "source": [
    "Install libraries"
   ]
  },
  {
   "cell_type": "code",
   "execution_count": 1,
   "id": "a6299327",
   "metadata": {
    "scrolled": true
   },
   "outputs": [
    {
     "name": "stdout",
     "output_type": "stream",
     "text": [
      "Defaulting to user installation because normal site-packages is not writeable\n",
      "Requirement already satisfied: seaborn in c:\\programdata\\anaconda3\\envs\\py39\\lib\\site-packages (0.12.2)\n",
      "Requirement already satisfied: numpy!=1.24.0,>=1.17 in c:\\programdata\\anaconda3\\envs\\py39\\lib\\site-packages (from seaborn) (1.23.5)\n",
      "Requirement already satisfied: pandas>=0.25 in c:\\programdata\\anaconda3\\envs\\py39\\lib\\site-packages (from seaborn) (1.5.3)\n",
      "Requirement already satisfied: matplotlib!=3.6.1,>=3.1 in c:\\programdata\\anaconda3\\envs\\py39\\lib\\site-packages (from seaborn) (3.7.1)\n",
      "Requirement already satisfied: cycler>=0.10 in c:\\programdata\\anaconda3\\envs\\py39\\lib\\site-packages (from matplotlib!=3.6.1,>=3.1->seaborn) (0.11.0)\n",
      "Requirement already satisfied: packaging>=20.0 in c:\\programdata\\anaconda3\\envs\\py39\\lib\\site-packages (from matplotlib!=3.6.1,>=3.1->seaborn) (23.0)\n",
      "Requirement already satisfied: python-dateutil>=2.7 in c:\\programdata\\anaconda3\\envs\\py39\\lib\\site-packages (from matplotlib!=3.6.1,>=3.1->seaborn) (2.8.2)\n",
      "Requirement already satisfied: fonttools>=4.22.0 in c:\\programdata\\anaconda3\\envs\\py39\\lib\\site-packages (from matplotlib!=3.6.1,>=3.1->seaborn) (4.25.0)\n",
      "Requirement already satisfied: kiwisolver>=1.0.1 in c:\\programdata\\anaconda3\\envs\\py39\\lib\\site-packages (from matplotlib!=3.6.1,>=3.1->seaborn) (1.4.4)\n",
      "Requirement already satisfied: importlib-resources>=3.2.0 in c:\\programdata\\anaconda3\\envs\\py39\\lib\\site-packages (from matplotlib!=3.6.1,>=3.1->seaborn) (5.2.0)\n",
      "Requirement already satisfied: pillow>=6.2.0 in c:\\programdata\\anaconda3\\envs\\py39\\lib\\site-packages (from matplotlib!=3.6.1,>=3.1->seaborn) (9.4.0)\n",
      "Requirement already satisfied: contourpy>=1.0.1 in c:\\programdata\\anaconda3\\envs\\py39\\lib\\site-packages (from matplotlib!=3.6.1,>=3.1->seaborn) (1.0.5)\n",
      "Requirement already satisfied: pyparsing>=2.3.1 in c:\\programdata\\anaconda3\\envs\\py39\\lib\\site-packages (from matplotlib!=3.6.1,>=3.1->seaborn) (3.0.9)\n",
      "Requirement already satisfied: pytz>=2020.1 in c:\\users\\2210346\\appdata\\roaming\\python\\python39\\site-packages (from pandas>=0.25->seaborn) (2023.3)\n",
      "Requirement already satisfied: zipp>=3.1.0 in c:\\programdata\\anaconda3\\envs\\py39\\lib\\site-packages (from importlib-resources>=3.2.0->matplotlib!=3.6.1,>=3.1->seaborn) (3.11.0)\n",
      "Requirement already satisfied: six>=1.5 in c:\\programdata\\anaconda3\\envs\\py39\\lib\\site-packages (from python-dateutil>=2.7->matplotlib!=3.6.1,>=3.1->seaborn) (1.16.0)\n"
     ]
    },
    {
     "name": "stderr",
     "output_type": "stream",
     "text": [
      "\n",
      "[notice] A new release of pip available: 22.3.1 -> 23.2\n",
      "[notice] To update, run: python.exe -m pip install --upgrade pip\n"
     ]
    }
   ],
   "source": [
    "!pip install seaborn"
   ]
  },
  {
   "cell_type": "markdown",
   "id": "5235a201",
   "metadata": {},
   "source": [
    "# Load datasets"
   ]
  },
  {
   "cell_type": "code",
   "execution_count": null,
   "id": "f5ce64a3",
   "metadata": {},
   "outputs": [],
   "source": [
    "import numpy as np\n",
    "import pandas as pd\n",
    "\n",
    "CLASSES = [ \"Bull\",\"Bear\" ]\n",
    "LABEL_BULL = CLASSES.index( \"Bull\" )\n",
    "LABEL_BEAR = CLASSES.index( \"Bear\" )\n",
    "\n",
    "datasets = np.load(\"datasets.npz\")\n",
    "x_train, y_train = datasets[\"x_train\"],datasets[\"y_train\"]\n",
    "x_val,y_val = datasets[\"x_val\"],datasets[\"y_val\"]\n",
    "x_test,y_test = datasets[\"x_test\"],datasets[\"y_test\"]\n",
    "                                             \n",
    "# Label distribution \n",
    "label_distribution = pd.DataFrame([{\"Dataset\" : \"train\",\n",
    "                                                         \"Bull\":np.count_nonzero(y_train == LABEL_BULL),\n",
    "                                                         \"Bear\": np.count_nonzero(y_train == LABEL_BEAR)},\n",
    "                                                         {\"Dataset\" : \"val\",\n",
    "                                                         \"Bull\":np.count_nonzero(y_val == LABEL_BULL),\n",
    "                                                         \"Bear\": np.count_nonzero(y_val == LABEL_BEAR)},\n",
    "                                                         {\"Dataset\" : \"test\",\n",
    "                                                         \"Bull\":np.count_nonzero(y_test == LABEL_BULL),\n",
    "                                                         \"Bear\": np.count_nonzero(y_test == LABEL_BEAR)}])\n",
    "label_distribution"
   ]
  },
  {
   "cell_type": "code",
   "execution_count": null,
   "id": "192d7c63",
   "metadata": {},
   "outputs": [],
   "source": [
    "#只會用到ＴＥＳＴ　ＤＡＴＡ"
   ]
  },
  {
   "cell_type": "markdown",
   "id": "49f20e08",
   "metadata": {},
   "source": [
    "# Load model"
   ]
  },
  {
   "cell_type": "code",
   "execution_count": null,
   "id": "6343ba5f",
   "metadata": {},
   "outputs": [],
   "source": [
    "from tensorflow import keras\n",
    "from tensorflow.keras.utils import to_categorical\n",
    "\n",
    "model = keras.models.load_model(\"best_model.hdf5\")"
   ]
  },
  {
   "cell_type": "markdown",
   "id": "05860ac9",
   "metadata": {},
   "source": [
    "# Evaluate model"
   ]
  },
  {
   "cell_type": "code",
   "execution_count": null,
   "id": "ec26aece",
   "metadata": {},
   "outputs": [],
   "source": [
    "model.evaluate(x_test, to_categorical(y_test))"
   ]
  },
  {
   "cell_type": "code",
   "execution_count": null,
   "id": "c34ed724",
   "metadata": {},
   "outputs": [],
   "source": [
    "#用ＭＯＤＥＬ　自帶的ＥＶＡＬＵＡＴＥ程序跑一下　利馬可以看出準確率　帶準確度只有提高三趴\n",
    "#所以想分析是對　上升不准還是下降部分不準確　所以用混淆舉證看一下分布在哪一塊"
   ]
  },
  {
   "cell_type": "code",
   "execution_count": null,
   "id": "83db9ef5",
   "metadata": {},
   "outputs": [],
   "source": []
  },
  {
   "cell_type": "code",
   "execution_count": null,
   "id": "716a773a",
   "metadata": {},
   "outputs": [],
   "source": [
    "# Draw confusion matrix\n",
    "from tensorflow.math import argmax, confusion_matrix\n",
    "\n",
    "y_pred_prod = model.predict(x_test)\n",
    "y_pred = argmax(y_pred_prod, axis=-1)\n",
    "cm = confusion_matrix(y_test,y_pred,num_classes=len(CLASSES)).numpy()"
   ]
  },
  {
   "cell_type": "code",
   "execution_count": null,
   "id": "20f02fa6",
   "metadata": {},
   "outputs": [],
   "source": [
    "cm"
   ]
  },
  {
   "cell_type": "code",
   "execution_count": null,
   "id": "1d9817f5",
   "metadata": {},
   "outputs": [],
   "source": [
    "import matplotlib.pyplot as plt\n",
    "import seaborn as sns\n",
    "\n",
    "plt.figure(figsize=(5,4))\n",
    "sns.heatmap(cm, xticklabels=CLASSES, yticklabels=CLASSES,\n",
    "           annot=True, fmt='g')\n",
    "plt.xlabel(\"Prediction\")\n",
    "plt.ylabel(\"Label\")\n"
   ]
  },
  {
   "cell_type": "code",
   "execution_count": null,
   "id": "9e6e5220",
   "metadata": {},
   "outputs": [],
   "source": [
    "n_bull_pred = cm[LABEL_BULL,LABEL_BULL] + cm[LABEL_BEAR, LABEL_BULL]\n",
    "n_bull_true_pos = cm[LABEL_BULL,LABEL_BULL]\n",
    "bull_accuracy = n_bull_true_pos / n_bull_pred if n_bull_pred > 0 else 0\n",
    "\n",
    "n_bear_pred = cm[LABEL_BULL,LABEL_BEAR] + cm[LABEL_BEAR, LABEL_BEAR]\n",
    "n_bear_true_pos = cm[LABEL_BEAR,LABEL_BEAR]\n",
    "bear_accuracy = n_bear_true_pos / n_bear_pred if n_bear_pred > 0 else 0\n",
    "\n",
    "n_total_pred = n_bull_pred + n_bear_pred\n",
    "n_total_true_pos = n_bull_true_pos + n_bear_true_pos\n",
    "total_accuracy = n_total_true_pos / n_total_pred if n_total_pred > 0 else 0\n",
    "\n",
    "pd.DataFrame([\n",
    "    {\"Prediction\": \"Bull\", \"Accuracy\": bull_accuracy},\n",
    "    {\"Prediction\": \"Bear\", \"Accuracy\": bear_accuracy},\n",
    "    {\"Prediction\": \"Total\", \"Accuracy\": total_accuracy}  \n",
    "])\n"
   ]
  },
  {
   "cell_type": "code",
   "execution_count": null,
   "id": "82710dc3",
   "metadata": {},
   "outputs": [],
   "source": [
    "#這個結果看下來　模型是不好用的　所以要改善　\n",
    "#在分割數據的時候　牽涉到許多隨機性　說不定是這模型不適合\n",
    "#所以做了一百次　得出了一百個準確率　並用質方圖ＨＩＳＴＯＧＲＡＭ　表示這一百個準確率\n",
    "#從途中可見　準確度分布在　0.43 0.58之間　平均值0.51只比零點五好一點"
   ]
  }
 ],
 "metadata": {
  "kernelspec": {
   "display_name": "Python 3 (ipykernel)",
   "language": "python",
   "name": "python3"
  },
  "language_info": {
   "codemirror_mode": {
    "name": "ipython",
    "version": 3
   },
   "file_extension": ".py",
   "mimetype": "text/x-python",
   "name": "python",
   "nbconvert_exporter": "python",
   "pygments_lexer": "ipython3",
   "version": "3.9.16"
  }
 },
 "nbformat": 4,
 "nbformat_minor": 5
}
